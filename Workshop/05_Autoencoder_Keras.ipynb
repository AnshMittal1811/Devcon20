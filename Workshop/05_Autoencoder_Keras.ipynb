{
  "nbformat": 4,
  "nbformat_minor": 0,
  "metadata": {
    "colab": {
      "name": "05_Autoencoder_Keras.ipynb",
      "provenance": [],
      "collapsed_sections": []
    },
    "kernelspec": {
      "name": "python3",
      "display_name": "Python 3"
    },
    "accelerator": "GPU"
  },
  "cells": [
    {
      "cell_type": "markdown",
      "metadata": {
        "id": "x8tauw-s4UZb"
      },
      "source": [
        "#Importing Required Libraries"
      ]
    },
    {
      "cell_type": "code",
      "metadata": {
        "id": "G985YMaa3Zu5"
      },
      "source": [
        "import keras\n",
        "from keras import layers\n",
        "from keras.datasets import mnist\n",
        "import numpy as np\n",
        "import matplotlib.pyplot as plt"
      ],
      "execution_count": null,
      "outputs": []
    },
    {
      "cell_type": "markdown",
      "metadata": {
        "id": "tPeIckgl4aT_"
      },
      "source": [
        "#Defining Autoencoder"
      ]
    },
    {
      "cell_type": "code",
      "metadata": {
        "id": "z0C2xUkx3Q3r"
      },
      "source": [
        "# This is the size of our encoded representations\n",
        "encoding_dim = 32  # 32 floats -> compression of factor 24.5, assuming the input is 784 floats\n",
        "\n",
        "# This is our input image\n",
        "input_img = keras.Input(shape=(784,))\n",
        "# \"encoded\" is the encoded representation of the input\n",
        "encoded = layers.Dense(encoding_dim, activation='relu')(input_img)\n",
        "# \"decoded\" is the lossy reconstruction of the input\n",
        "decoded = layers.Dense(784, activation='sigmoid')(encoded)\n",
        "\n",
        "# This model maps an input to its reconstruction\n",
        "autoencoder = keras.Model(input_img, decoded)"
      ],
      "execution_count": null,
      "outputs": []
    },
    {
      "cell_type": "code",
      "metadata": {
        "id": "BeEYP8iE3fTV"
      },
      "source": [
        "# This model maps an input to its encoded representation\n",
        "encoder = keras.Model(input_img, encoded)"
      ],
      "execution_count": null,
      "outputs": []
    },
    {
      "cell_type": "code",
      "metadata": {
        "id": "qrIJackK3j72"
      },
      "source": [
        "# This is our encoded (32-dimensional) input\n",
        "encoded_input = keras.Input(shape=(encoding_dim,))\n",
        "# Retrieve the last layer of the autoencoder model\n",
        "decoder_layer = autoencoder.layers[-1]\n",
        "# Create the decoder model\n",
        "decoder = keras.Model(encoded_input, decoder_layer(encoded_input))"
      ],
      "execution_count": null,
      "outputs": []
    },
    {
      "cell_type": "code",
      "metadata": {
        "id": "gxqF7rGH3m30"
      },
      "source": [
        "autoencoder.compile(optimizer='adam', loss='binary_crossentropy', metrics = ['accuracy'])"
      ],
      "execution_count": null,
      "outputs": []
    },
    {
      "cell_type": "markdown",
      "metadata": {
        "id": "2w6ma8eW4lXF"
      },
      "source": [
        "#Loading the dataset"
      ]
    },
    {
      "cell_type": "code",
      "metadata": {
        "id": "hLASaARE3rad"
      },
      "source": [
        "(x_train, _), (x_test, _) = mnist.load_data()"
      ],
      "execution_count": null,
      "outputs": []
    },
    {
      "cell_type": "markdown",
      "metadata": {
        "id": "Wep453lN4pRC"
      },
      "source": [
        "#Preparing the data"
      ]
    },
    {
      "cell_type": "code",
      "metadata": {
        "id": "UOnmy8lX3ui9",
        "outputId": "d17cae27-e107-493a-a409-60599098e39f",
        "colab": {
          "base_uri": "https://localhost:8080/"
        }
      },
      "source": [
        "x_train = x_train.astype('float32') / 255.\n",
        "x_test = x_test.astype('float32') / 255.\n",
        "x_train = x_train.reshape((len(x_train), np.prod(x_train.shape[1:])))\n",
        "x_test = x_test.reshape((len(x_test), np.prod(x_test.shape[1:])))\n",
        "print(x_train.shape)\n",
        "print(x_test.shape)"
      ],
      "execution_count": null,
      "outputs": [
        {
          "output_type": "stream",
          "text": [
            "(60000, 784)\n",
            "(10000, 784)\n"
          ],
          "name": "stdout"
        }
      ]
    },
    {
      "cell_type": "markdown",
      "metadata": {
        "id": "TeA6V4Gm4sgV"
      },
      "source": [
        "#Training the Autoencoder"
      ]
    },
    {
      "cell_type": "code",
      "metadata": {
        "id": "_BO-cytj3x_o",
        "outputId": "916768a6-7f22-4a66-a530-835e767088be",
        "colab": {
          "base_uri": "https://localhost:8080/"
        }
      },
      "source": [
        "autoencoder.fit(x_train, x_train,\n",
        "                epochs=50,\n",
        "                batch_size=256,\n",
        "                shuffle=True,\n",
        "                validation_data=(x_test, x_test))"
      ],
      "execution_count": null,
      "outputs": [
        {
          "output_type": "stream",
          "text": [
            "Epoch 1/50\n",
            "235/235 [==============================] - 1s 4ms/step - loss: 0.2783 - accuracy: 0.0109 - val_loss: 0.1919 - val_accuracy: 0.0102\n",
            "Epoch 2/50\n",
            "235/235 [==============================] - 1s 4ms/step - loss: 0.1728 - accuracy: 0.0097 - val_loss: 0.1549 - val_accuracy: 0.0102\n",
            "Epoch 3/50\n",
            "235/235 [==============================] - 1s 4ms/step - loss: 0.1453 - accuracy: 0.0105 - val_loss: 0.1337 - val_accuracy: 0.0114\n",
            "Epoch 4/50\n",
            "235/235 [==============================] - 1s 4ms/step - loss: 0.1285 - accuracy: 0.0110 - val_loss: 0.1214 - val_accuracy: 0.0113\n",
            "Epoch 5/50\n",
            "235/235 [==============================] - 1s 4ms/step - loss: 0.1184 - accuracy: 0.0117 - val_loss: 0.1131 - val_accuracy: 0.0131\n",
            "Epoch 6/50\n",
            "235/235 [==============================] - 1s 4ms/step - loss: 0.1111 - accuracy: 0.0120 - val_loss: 0.1069 - val_accuracy: 0.0131\n",
            "Epoch 7/50\n",
            "235/235 [==============================] - 1s 4ms/step - loss: 0.1058 - accuracy: 0.0115 - val_loss: 0.1024 - val_accuracy: 0.0130\n",
            "Epoch 8/50\n",
            "235/235 [==============================] - 1s 4ms/step - loss: 0.1020 - accuracy: 0.0112 - val_loss: 0.0992 - val_accuracy: 0.0119\n",
            "Epoch 9/50\n",
            "235/235 [==============================] - 1s 4ms/step - loss: 0.0993 - accuracy: 0.0114 - val_loss: 0.0969 - val_accuracy: 0.0123\n",
            "Epoch 10/50\n",
            "235/235 [==============================] - 1s 4ms/step - loss: 0.0974 - accuracy: 0.0121 - val_loss: 0.0954 - val_accuracy: 0.0118\n",
            "Epoch 11/50\n",
            "235/235 [==============================] - 1s 4ms/step - loss: 0.0962 - accuracy: 0.0116 - val_loss: 0.0945 - val_accuracy: 0.0124\n",
            "Epoch 12/50\n",
            "235/235 [==============================] - 1s 4ms/step - loss: 0.0954 - accuracy: 0.0115 - val_loss: 0.0938 - val_accuracy: 0.0114\n",
            "Epoch 13/50\n",
            "235/235 [==============================] - 1s 4ms/step - loss: 0.0948 - accuracy: 0.0119 - val_loss: 0.0935 - val_accuracy: 0.0125\n",
            "Epoch 14/50\n",
            "235/235 [==============================] - 1s 4ms/step - loss: 0.0945 - accuracy: 0.0118 - val_loss: 0.0930 - val_accuracy: 0.0126\n",
            "Epoch 15/50\n",
            "235/235 [==============================] - 1s 4ms/step - loss: 0.0942 - accuracy: 0.0116 - val_loss: 0.0928 - val_accuracy: 0.0142\n",
            "Epoch 16/50\n",
            "235/235 [==============================] - 1s 4ms/step - loss: 0.0939 - accuracy: 0.0116 - val_loss: 0.0926 - val_accuracy: 0.0124\n",
            "Epoch 17/50\n",
            "235/235 [==============================] - 1s 4ms/step - loss: 0.0938 - accuracy: 0.0115 - val_loss: 0.0924 - val_accuracy: 0.0127\n",
            "Epoch 18/50\n",
            "235/235 [==============================] - 1s 4ms/step - loss: 0.0936 - accuracy: 0.0120 - val_loss: 0.0923 - val_accuracy: 0.0125\n",
            "Epoch 19/50\n",
            "235/235 [==============================] - 1s 4ms/step - loss: 0.0935 - accuracy: 0.0117 - val_loss: 0.0922 - val_accuracy: 0.0122\n",
            "Epoch 20/50\n",
            "235/235 [==============================] - 1s 4ms/step - loss: 0.0934 - accuracy: 0.0117 - val_loss: 0.0921 - val_accuracy: 0.0119\n",
            "Epoch 21/50\n",
            "235/235 [==============================] - 1s 4ms/step - loss: 0.0933 - accuracy: 0.0115 - val_loss: 0.0920 - val_accuracy: 0.0113\n",
            "Epoch 22/50\n",
            "235/235 [==============================] - 1s 4ms/step - loss: 0.0933 - accuracy: 0.0117 - val_loss: 0.0920 - val_accuracy: 0.0122\n",
            "Epoch 23/50\n",
            "235/235 [==============================] - 1s 4ms/step - loss: 0.0932 - accuracy: 0.0117 - val_loss: 0.0919 - val_accuracy: 0.0129\n",
            "Epoch 24/50\n",
            "235/235 [==============================] - 1s 4ms/step - loss: 0.0931 - accuracy: 0.0111 - val_loss: 0.0919 - val_accuracy: 0.0125\n",
            "Epoch 25/50\n",
            "235/235 [==============================] - 1s 4ms/step - loss: 0.0931 - accuracy: 0.0116 - val_loss: 0.0918 - val_accuracy: 0.0119\n",
            "Epoch 26/50\n",
            "235/235 [==============================] - 1s 4ms/step - loss: 0.0930 - accuracy: 0.0115 - val_loss: 0.0918 - val_accuracy: 0.0125\n",
            "Epoch 27/50\n",
            "235/235 [==============================] - 1s 4ms/step - loss: 0.0930 - accuracy: 0.0115 - val_loss: 0.0918 - val_accuracy: 0.0109\n",
            "Epoch 28/50\n",
            "235/235 [==============================] - 1s 4ms/step - loss: 0.0930 - accuracy: 0.0118 - val_loss: 0.0918 - val_accuracy: 0.0126\n",
            "Epoch 29/50\n",
            "235/235 [==============================] - 1s 4ms/step - loss: 0.0929 - accuracy: 0.0113 - val_loss: 0.0917 - val_accuracy: 0.0124\n",
            "Epoch 30/50\n",
            "235/235 [==============================] - 1s 4ms/step - loss: 0.0929 - accuracy: 0.0114 - val_loss: 0.0917 - val_accuracy: 0.0116\n",
            "Epoch 31/50\n",
            "235/235 [==============================] - 1s 4ms/step - loss: 0.0929 - accuracy: 0.0115 - val_loss: 0.0917 - val_accuracy: 0.0128\n",
            "Epoch 32/50\n",
            "235/235 [==============================] - 1s 4ms/step - loss: 0.0929 - accuracy: 0.0114 - val_loss: 0.0917 - val_accuracy: 0.0132\n",
            "Epoch 33/50\n",
            "235/235 [==============================] - 1s 4ms/step - loss: 0.0928 - accuracy: 0.0111 - val_loss: 0.0916 - val_accuracy: 0.0122\n",
            "Epoch 34/50\n",
            "235/235 [==============================] - 1s 4ms/step - loss: 0.0928 - accuracy: 0.0114 - val_loss: 0.0916 - val_accuracy: 0.0116\n",
            "Epoch 35/50\n",
            "235/235 [==============================] - 1s 4ms/step - loss: 0.0928 - accuracy: 0.0114 - val_loss: 0.0916 - val_accuracy: 0.0127\n",
            "Epoch 36/50\n",
            "235/235 [==============================] - 1s 4ms/step - loss: 0.0928 - accuracy: 0.0116 - val_loss: 0.0916 - val_accuracy: 0.0111\n",
            "Epoch 37/50\n",
            "235/235 [==============================] - 1s 4ms/step - loss: 0.0928 - accuracy: 0.0113 - val_loss: 0.0916 - val_accuracy: 0.0126\n",
            "Epoch 38/50\n",
            "235/235 [==============================] - 1s 4ms/step - loss: 0.0927 - accuracy: 0.0112 - val_loss: 0.0917 - val_accuracy: 0.0135\n",
            "Epoch 39/50\n",
            "235/235 [==============================] - 1s 4ms/step - loss: 0.0927 - accuracy: 0.0115 - val_loss: 0.0916 - val_accuracy: 0.0117\n",
            "Epoch 40/50\n",
            "235/235 [==============================] - 1s 4ms/step - loss: 0.0927 - accuracy: 0.0114 - val_loss: 0.0916 - val_accuracy: 0.0123\n",
            "Epoch 41/50\n",
            "235/235 [==============================] - 1s 4ms/step - loss: 0.0927 - accuracy: 0.0113 - val_loss: 0.0916 - val_accuracy: 0.0122\n",
            "Epoch 42/50\n",
            "235/235 [==============================] - 1s 4ms/step - loss: 0.0927 - accuracy: 0.0116 - val_loss: 0.0916 - val_accuracy: 0.0109\n",
            "Epoch 43/50\n",
            "235/235 [==============================] - 1s 4ms/step - loss: 0.0927 - accuracy: 0.0112 - val_loss: 0.0915 - val_accuracy: 0.0117\n",
            "Epoch 44/50\n",
            "235/235 [==============================] - 1s 4ms/step - loss: 0.0927 - accuracy: 0.0115 - val_loss: 0.0915 - val_accuracy: 0.0117\n",
            "Epoch 45/50\n",
            "235/235 [==============================] - 1s 4ms/step - loss: 0.0926 - accuracy: 0.0114 - val_loss: 0.0915 - val_accuracy: 0.0128\n",
            "Epoch 46/50\n",
            "235/235 [==============================] - 1s 4ms/step - loss: 0.0926 - accuracy: 0.0116 - val_loss: 0.0915 - val_accuracy: 0.0116\n",
            "Epoch 47/50\n",
            "235/235 [==============================] - 1s 4ms/step - loss: 0.0926 - accuracy: 0.0113 - val_loss: 0.0915 - val_accuracy: 0.0134\n",
            "Epoch 48/50\n",
            "235/235 [==============================] - 1s 4ms/step - loss: 0.0926 - accuracy: 0.0112 - val_loss: 0.0915 - val_accuracy: 0.0114\n",
            "Epoch 49/50\n",
            "235/235 [==============================] - 1s 4ms/step - loss: 0.0926 - accuracy: 0.0115 - val_loss: 0.0915 - val_accuracy: 0.0138\n",
            "Epoch 50/50\n",
            "235/235 [==============================] - 1s 4ms/step - loss: 0.0926 - accuracy: 0.0116 - val_loss: 0.0914 - val_accuracy: 0.0128\n"
          ],
          "name": "stdout"
        },
        {
          "output_type": "execute_result",
          "data": {
            "text/plain": [
              "<tensorflow.python.keras.callbacks.History at 0x7f319ef5a630>"
            ]
          },
          "metadata": {
            "tags": []
          },
          "execution_count": 19
        }
      ]
    },
    {
      "cell_type": "markdown",
      "metadata": {
        "id": "fOmQV-984xkI"
      },
      "source": [
        "#Generating Test Results"
      ]
    },
    {
      "cell_type": "code",
      "metadata": {
        "id": "3s5hePfY321J"
      },
      "source": [
        "# Encode and decode some digits\n",
        "# Note that we take them from the *test* set\n",
        "encoded_imgs = encoder.predict(x_test)\n",
        "decoded_imgs = decoder.predict(encoded_imgs)"
      ],
      "execution_count": null,
      "outputs": []
    },
    {
      "cell_type": "markdown",
      "metadata": {
        "id": "n2rtnPx_42xs"
      },
      "source": [
        "#Visualizing Reconstructed Images"
      ]
    },
    {
      "cell_type": "code",
      "metadata": {
        "id": "Mg4OYFr333iM",
        "outputId": "c61d1ecd-51c1-4434-c89a-b6180f7f1205",
        "colab": {
          "base_uri": "https://localhost:8080/",
          "height": 226
        }
      },
      "source": [
        "n = 10  # How many digits we will display\n",
        "plt.figure(figsize=(20, 4))\n",
        "for i in range(n):\n",
        "    # Display original\n",
        "    ax = plt.subplot(2, n, i + 1)\n",
        "    plt.imshow(x_test[i].reshape(28, 28))\n",
        "    plt.gray()\n",
        "    ax.get_xaxis().set_visible(False)\n",
        "    ax.get_yaxis().set_visible(False)\n",
        "\n",
        "    # Display reconstruction\n",
        "    ax = plt.subplot(2, n, i + 1 + n)\n",
        "    plt.imshow(decoded_imgs[i].reshape(28, 28))\n",
        "    plt.gray()\n",
        "    ax.get_xaxis().set_visible(False)\n",
        "    ax.get_yaxis().set_visible(False)\n",
        "plt.show()"
      ],
      "execution_count": null,
      "outputs": [
        {
          "output_type": "display_data",
          "data": {
            "image/png": "[encoded data removed]",
            "text/plain": [
              "<Figure size 1440x288 with 20 Axes>"
            ]
          },
          "metadata": {
            "tags": [],
            "needs_background": "light"
          }
        }
      ]
    },
    {
      "cell_type": "markdown",
      "metadata": {
        "id": "pbly3LxH5kHp"
      },
      "source": [
        "#Deep Autoencoder"
      ]
    },
    {
      "cell_type": "code",
      "metadata": {
        "id": "G5SNAzRD5mhQ"
      },
      "source": [
        "input_img = keras.Input(shape=(784,))\n",
        "encoded = layers.Dense(128, activation='relu')(input_img)\n",
        "encoded = layers.Dense(64, activation='relu')(encoded)\n",
        "encoded = layers.Dense(32, activation='relu')(encoded)\n",
        "\n",
        "decoded = layers.Dense(64, activation='relu')(encoded)\n",
        "decoded = layers.Dense(128, activation='relu')(decoded)\n",
        "decoded = layers.Dense(784, activation='sigmoid')(decoded)"
      ],
      "execution_count": null,
      "outputs": []
    },
    {
      "cell_type": "code",
      "metadata": {
        "id": "GQ-EIaLk5uAV"
      },
      "source": [
        "autoencoder = keras.Model(input_img, decoded)\n",
        "autoencoder.compile(optimizer='adam', loss='binary_crossentropy', metrics = ['accuracy'])"
      ],
      "execution_count": null,
      "outputs": []
    },
    {
      "cell_type": "code",
      "metadata": {
        "id": "yofSJ5X55w7R",
        "outputId": "d69fadb0-3062-4f8b-ca96-de75b3ef934c",
        "colab": {
          "base_uri": "https://localhost:8080/"
        }
      },
      "source": [
        "autoencoder.fit(x_train, x_train,\n",
        "                epochs=100,\n",
        "                batch_size=256,\n",
        "                shuffle=True,\n",
        "                validation_data=(x_test, x_test))"
      ],
      "execution_count": null,
      "outputs": [
        {
          "output_type": "stream",
          "text": [
            "Epoch 1/100\n",
            "235/235 [==============================] - 1s 5ms/step - loss: 0.2483 - accuracy: 0.0120 - val_loss: 0.1687 - val_accuracy: 0.0181\n",
            "Epoch 2/100\n",
            "235/235 [==============================] - 1s 4ms/step - loss: 0.1537 - accuracy: 0.0129 - val_loss: 0.1414 - val_accuracy: 0.0093\n",
            "Epoch 3/100\n",
            "235/235 [==============================] - 1s 4ms/step - loss: 0.1352 - accuracy: 0.0125 - val_loss: 0.1280 - val_accuracy: 0.0121\n",
            "Epoch 4/100\n",
            "235/235 [==============================] - 1s 4ms/step - loss: 0.1260 - accuracy: 0.0124 - val_loss: 0.1217 - val_accuracy: 0.0100\n",
            "Epoch 5/100\n",
            "235/235 [==============================] - 1s 4ms/step - loss: 0.1206 - accuracy: 0.0113 - val_loss: 0.1168 - val_accuracy: 0.0141\n",
            "Epoch 6/100\n",
            "235/235 [==============================] - 1s 4ms/step - loss: 0.1163 - accuracy: 0.0115 - val_loss: 0.1132 - val_accuracy: 0.0120\n",
            "Epoch 7/100\n",
            "235/235 [==============================] - 1s 4ms/step - loss: 0.1127 - accuracy: 0.0119 - val_loss: 0.1096 - val_accuracy: 0.0122\n",
            "Epoch 8/100\n",
            "235/235 [==============================] - 1s 4ms/step - loss: 0.1093 - accuracy: 0.0119 - val_loss: 0.1062 - val_accuracy: 0.0128\n",
            "Epoch 9/100\n",
            "235/235 [==============================] - 1s 4ms/step - loss: 0.1065 - accuracy: 0.0124 - val_loss: 0.1044 - val_accuracy: 0.0122\n",
            "Epoch 10/100\n",
            "235/235 [==============================] - 1s 4ms/step - loss: 0.1044 - accuracy: 0.0120 - val_loss: 0.1026 - val_accuracy: 0.0133\n",
            "Epoch 11/100\n",
            "235/235 [==============================] - 1s 4ms/step - loss: 0.1028 - accuracy: 0.0129 - val_loss: 0.1011 - val_accuracy: 0.0128\n",
            "Epoch 12/100\n",
            "235/235 [==============================] - 1s 4ms/step - loss: 0.1014 - accuracy: 0.0118 - val_loss: 0.0996 - val_accuracy: 0.0123\n",
            "Epoch 13/100\n",
            "235/235 [==============================] - 1s 4ms/step - loss: 0.1000 - accuracy: 0.0125 - val_loss: 0.0982 - val_accuracy: 0.0104\n",
            "Epoch 14/100\n",
            "235/235 [==============================] - 1s 4ms/step - loss: 0.0987 - accuracy: 0.0119 - val_loss: 0.0971 - val_accuracy: 0.0101\n",
            "Epoch 15/100\n",
            "235/235 [==============================] - 1s 4ms/step - loss: 0.0976 - accuracy: 0.0130 - val_loss: 0.0963 - val_accuracy: 0.0112\n",
            "Epoch 16/100\n",
            "235/235 [==============================] - 1s 4ms/step - loss: 0.0967 - accuracy: 0.0124 - val_loss: 0.0954 - val_accuracy: 0.0106\n",
            "Epoch 17/100\n",
            "235/235 [==============================] - 1s 4ms/step - loss: 0.0958 - accuracy: 0.0127 - val_loss: 0.0944 - val_accuracy: 0.0124\n",
            "Epoch 18/100\n",
            "235/235 [==============================] - 1s 4ms/step - loss: 0.0951 - accuracy: 0.0131 - val_loss: 0.0940 - val_accuracy: 0.0112\n",
            "Epoch 19/100\n",
            "235/235 [==============================] - 1s 4ms/step - loss: 0.0945 - accuracy: 0.0122 - val_loss: 0.0934 - val_accuracy: 0.0132\n",
            "Epoch 20/100\n",
            "235/235 [==============================] - 1s 4ms/step - loss: 0.0940 - accuracy: 0.0125 - val_loss: 0.0931 - val_accuracy: 0.0144\n",
            "Epoch 21/100\n",
            "235/235 [==============================] - 1s 4ms/step - loss: 0.0935 - accuracy: 0.0132 - val_loss: 0.0923 - val_accuracy: 0.0115\n",
            "Epoch 22/100\n",
            "235/235 [==============================] - 1s 4ms/step - loss: 0.0930 - accuracy: 0.0126 - val_loss: 0.0922 - val_accuracy: 0.0131\n",
            "Epoch 23/100\n",
            "235/235 [==============================] - 1s 4ms/step - loss: 0.0926 - accuracy: 0.0128 - val_loss: 0.0917 - val_accuracy: 0.0139\n",
            "Epoch 24/100\n",
            "235/235 [==============================] - 1s 4ms/step - loss: 0.0922 - accuracy: 0.0126 - val_loss: 0.0912 - val_accuracy: 0.0147\n",
            "Epoch 25/100\n",
            "235/235 [==============================] - 1s 4ms/step - loss: 0.0919 - accuracy: 0.0123 - val_loss: 0.0909 - val_accuracy: 0.0143\n",
            "Epoch 26/100\n",
            "235/235 [==============================] - 1s 4ms/step - loss: 0.0915 - accuracy: 0.0132 - val_loss: 0.0906 - val_accuracy: 0.0136\n",
            "Epoch 27/100\n",
            "235/235 [==============================] - 1s 4ms/step - loss: 0.0911 - accuracy: 0.0131 - val_loss: 0.0906 - val_accuracy: 0.0142\n",
            "Epoch 28/100\n",
            "235/235 [==============================] - 1s 4ms/step - loss: 0.0908 - accuracy: 0.0131 - val_loss: 0.0899 - val_accuracy: 0.0127\n",
            "Epoch 29/100\n",
            "235/235 [==============================] - 1s 4ms/step - loss: 0.0905 - accuracy: 0.0131 - val_loss: 0.0897 - val_accuracy: 0.0107\n",
            "Epoch 30/100\n",
            "235/235 [==============================] - 1s 4ms/step - loss: 0.0902 - accuracy: 0.0137 - val_loss: 0.0895 - val_accuracy: 0.0134\n",
            "Epoch 31/100\n",
            "235/235 [==============================] - 1s 4ms/step - loss: 0.0900 - accuracy: 0.0131 - val_loss: 0.0891 - val_accuracy: 0.0132\n",
            "Epoch 32/100\n",
            "235/235 [==============================] - 1s 4ms/step - loss: 0.0898 - accuracy: 0.0136 - val_loss: 0.0890 - val_accuracy: 0.0125\n",
            "Epoch 33/100\n",
            "235/235 [==============================] - 1s 4ms/step - loss: 0.0896 - accuracy: 0.0132 - val_loss: 0.0890 - val_accuracy: 0.0112\n",
            "Epoch 34/100\n",
            "235/235 [==============================] - 1s 4ms/step - loss: 0.0894 - accuracy: 0.0131 - val_loss: 0.0886 - val_accuracy: 0.0111\n",
            "Epoch 35/100\n",
            "235/235 [==============================] - 1s 4ms/step - loss: 0.0892 - accuracy: 0.0137 - val_loss: 0.0887 - val_accuracy: 0.0118\n",
            "Epoch 36/100\n",
            "235/235 [==============================] - 1s 4ms/step - loss: 0.0890 - accuracy: 0.0132 - val_loss: 0.0887 - val_accuracy: 0.0130\n",
            "Epoch 37/100\n",
            "235/235 [==============================] - 1s 4ms/step - loss: 0.0889 - accuracy: 0.0132 - val_loss: 0.0881 - val_accuracy: 0.0115\n",
            "Epoch 38/100\n",
            "235/235 [==============================] - 1s 4ms/step - loss: 0.0887 - accuracy: 0.0136 - val_loss: 0.0881 - val_accuracy: 0.0125\n",
            "Epoch 39/100\n",
            "235/235 [==============================] - 1s 4ms/step - loss: 0.0886 - accuracy: 0.0130 - val_loss: 0.0880 - val_accuracy: 0.0117\n",
            "Epoch 40/100\n",
            "235/235 [==============================] - 1s 4ms/step - loss: 0.0885 - accuracy: 0.0132 - val_loss: 0.0878 - val_accuracy: 0.0116\n",
            "Epoch 41/100\n",
            "235/235 [==============================] - 1s 4ms/step - loss: 0.0884 - accuracy: 0.0131 - val_loss: 0.0879 - val_accuracy: 0.0102\n",
            "Epoch 42/100\n",
            "235/235 [==============================] - 1s 4ms/step - loss: 0.0882 - accuracy: 0.0134 - val_loss: 0.0878 - val_accuracy: 0.0119\n",
            "Epoch 43/100\n",
            "235/235 [==============================] - 1s 4ms/step - loss: 0.0881 - accuracy: 0.0131 - val_loss: 0.0876 - val_accuracy: 0.0098\n",
            "Epoch 44/100\n",
            "235/235 [==============================] - 1s 4ms/step - loss: 0.0880 - accuracy: 0.0133 - val_loss: 0.0875 - val_accuracy: 0.0116\n",
            "Epoch 45/100\n",
            "235/235 [==============================] - 1s 4ms/step - loss: 0.0879 - accuracy: 0.0137 - val_loss: 0.0874 - val_accuracy: 0.0135\n",
            "Epoch 46/100\n",
            "235/235 [==============================] - 1s 4ms/step - loss: 0.0878 - accuracy: 0.0131 - val_loss: 0.0872 - val_accuracy: 0.0106\n",
            "Epoch 47/100\n",
            "235/235 [==============================] - 1s 4ms/step - loss: 0.0877 - accuracy: 0.0138 - val_loss: 0.0874 - val_accuracy: 0.0111\n",
            "Epoch 48/100\n",
            "235/235 [==============================] - 1s 4ms/step - loss: 0.0877 - accuracy: 0.0137 - val_loss: 0.0873 - val_accuracy: 0.0096\n",
            "Epoch 49/100\n",
            "235/235 [==============================] - 1s 4ms/step - loss: 0.0876 - accuracy: 0.0135 - val_loss: 0.0871 - val_accuracy: 0.0128\n",
            "Epoch 50/100\n",
            "235/235 [==============================] - 1s 4ms/step - loss: 0.0875 - accuracy: 0.0136 - val_loss: 0.0869 - val_accuracy: 0.0125\n",
            "Epoch 51/100\n",
            "235/235 [==============================] - 1s 4ms/step - loss: 0.0874 - accuracy: 0.0137 - val_loss: 0.0871 - val_accuracy: 0.0137\n",
            "Epoch 52/100\n",
            "235/235 [==============================] - 1s 4ms/step - loss: 0.0874 - accuracy: 0.0135 - val_loss: 0.0872 - val_accuracy: 0.0104\n",
            "Epoch 53/100\n",
            "235/235 [==============================] - 1s 4ms/step - loss: 0.0873 - accuracy: 0.0132 - val_loss: 0.0869 - val_accuracy: 0.0131\n",
            "Epoch 54/100\n",
            "235/235 [==============================] - 1s 4ms/step - loss: 0.0873 - accuracy: 0.0135 - val_loss: 0.0867 - val_accuracy: 0.0111\n",
            "Epoch 55/100\n",
            "235/235 [==============================] - 1s 4ms/step - loss: 0.0872 - accuracy: 0.0132 - val_loss: 0.0868 - val_accuracy: 0.0115\n",
            "Epoch 56/100\n",
            "235/235 [==============================] - 1s 4ms/step - loss: 0.0871 - accuracy: 0.0132 - val_loss: 0.0869 - val_accuracy: 0.0124\n",
            "Epoch 57/100\n",
            "235/235 [==============================] - 1s 4ms/step - loss: 0.0870 - accuracy: 0.0134 - val_loss: 0.0867 - val_accuracy: 0.0120\n",
            "Epoch 58/100\n",
            "235/235 [==============================] - 1s 4ms/step - loss: 0.0870 - accuracy: 0.0130 - val_loss: 0.0867 - val_accuracy: 0.0123\n",
            "Epoch 59/100\n",
            "235/235 [==============================] - 1s 4ms/step - loss: 0.0870 - accuracy: 0.0132 - val_loss: 0.0867 - val_accuracy: 0.0121\n",
            "Epoch 60/100\n",
            "235/235 [==============================] - 1s 4ms/step - loss: 0.0869 - accuracy: 0.0133 - val_loss: 0.0866 - val_accuracy: 0.0139\n",
            "Epoch 61/100\n",
            "235/235 [==============================] - 1s 4ms/step - loss: 0.0869 - accuracy: 0.0131 - val_loss: 0.0863 - val_accuracy: 0.0136\n",
            "Epoch 62/100\n",
            "235/235 [==============================] - 1s 4ms/step - loss: 0.0868 - accuracy: 0.0135 - val_loss: 0.0863 - val_accuracy: 0.0125\n",
            "Epoch 63/100\n",
            "235/235 [==============================] - 1s 4ms/step - loss: 0.0867 - accuracy: 0.0133 - val_loss: 0.0866 - val_accuracy: 0.0113\n",
            "Epoch 64/100\n",
            "235/235 [==============================] - 1s 4ms/step - loss: 0.0867 - accuracy: 0.0134 - val_loss: 0.0863 - val_accuracy: 0.0117\n",
            "Epoch 65/100\n",
            "235/235 [==============================] - 1s 4ms/step - loss: 0.0867 - accuracy: 0.0137 - val_loss: 0.0862 - val_accuracy: 0.0109\n",
            "Epoch 66/100\n",
            "235/235 [==============================] - 1s 4ms/step - loss: 0.0866 - accuracy: 0.0137 - val_loss: 0.0862 - val_accuracy: 0.0155\n",
            "Epoch 67/100\n",
            "235/235 [==============================] - 1s 4ms/step - loss: 0.0866 - accuracy: 0.0132 - val_loss: 0.0866 - val_accuracy: 0.0131\n",
            "Epoch 68/100\n",
            "235/235 [==============================] - 1s 4ms/step - loss: 0.0865 - accuracy: 0.0132 - val_loss: 0.0861 - val_accuracy: 0.0126\n",
            "Epoch 69/100\n",
            "235/235 [==============================] - 1s 4ms/step - loss: 0.0864 - accuracy: 0.0133 - val_loss: 0.0862 - val_accuracy: 0.0120\n",
            "Epoch 70/100\n",
            "235/235 [==============================] - 1s 4ms/step - loss: 0.0864 - accuracy: 0.0129 - val_loss: 0.0862 - val_accuracy: 0.0138\n",
            "Epoch 71/100\n",
            "235/235 [==============================] - 1s 4ms/step - loss: 0.0864 - accuracy: 0.0132 - val_loss: 0.0865 - val_accuracy: 0.0128\n",
            "Epoch 72/100\n",
            "235/235 [==============================] - 1s 4ms/step - loss: 0.0864 - accuracy: 0.0136 - val_loss: 0.0859 - val_accuracy: 0.0152\n",
            "Epoch 73/100\n",
            "235/235 [==============================] - 1s 4ms/step - loss: 0.0863 - accuracy: 0.0137 - val_loss: 0.0860 - val_accuracy: 0.0139\n",
            "Epoch 74/100\n",
            "235/235 [==============================] - 1s 4ms/step - loss: 0.0862 - accuracy: 0.0137 - val_loss: 0.0860 - val_accuracy: 0.0152\n",
            "Epoch 75/100\n",
            "235/235 [==============================] - 1s 4ms/step - loss: 0.0862 - accuracy: 0.0137 - val_loss: 0.0859 - val_accuracy: 0.0134\n",
            "Epoch 76/100\n",
            "235/235 [==============================] - 1s 4ms/step - loss: 0.0862 - accuracy: 0.0130 - val_loss: 0.0859 - val_accuracy: 0.0131\n",
            "Epoch 77/100\n",
            "235/235 [==============================] - 1s 4ms/step - loss: 0.0861 - accuracy: 0.0138 - val_loss: 0.0862 - val_accuracy: 0.0132\n",
            "Epoch 78/100\n",
            "235/235 [==============================] - 1s 4ms/step - loss: 0.0861 - accuracy: 0.0134 - val_loss: 0.0858 - val_accuracy: 0.0124\n",
            "Epoch 79/100\n",
            "235/235 [==============================] - 1s 4ms/step - loss: 0.0861 - accuracy: 0.0133 - val_loss: 0.0856 - val_accuracy: 0.0131\n",
            "Epoch 80/100\n",
            "235/235 [==============================] - 1s 4ms/step - loss: 0.0860 - accuracy: 0.0141 - val_loss: 0.0858 - val_accuracy: 0.0115\n",
            "Epoch 81/100\n",
            "235/235 [==============================] - 1s 4ms/step - loss: 0.0860 - accuracy: 0.0139 - val_loss: 0.0857 - val_accuracy: 0.0139\n",
            "Epoch 82/100\n",
            "235/235 [==============================] - 1s 4ms/step - loss: 0.0859 - accuracy: 0.0140 - val_loss: 0.0858 - val_accuracy: 0.0136\n",
            "Epoch 83/100\n",
            "235/235 [==============================] - 1s 4ms/step - loss: 0.0859 - accuracy: 0.0141 - val_loss: 0.0858 - val_accuracy: 0.0149\n",
            "Epoch 84/100\n",
            "235/235 [==============================] - 1s 4ms/step - loss: 0.0859 - accuracy: 0.0135 - val_loss: 0.0858 - val_accuracy: 0.0136\n",
            "Epoch 85/100\n",
            "235/235 [==============================] - 1s 4ms/step - loss: 0.0859 - accuracy: 0.0136 - val_loss: 0.0858 - val_accuracy: 0.0128\n",
            "Epoch 86/100\n",
            "235/235 [==============================] - 1s 4ms/step - loss: 0.0859 - accuracy: 0.0137 - val_loss: 0.0856 - val_accuracy: 0.0121\n",
            "Epoch 87/100\n",
            "235/235 [==============================] - 1s 4ms/step - loss: 0.0858 - accuracy: 0.0134 - val_loss: 0.0858 - val_accuracy: 0.0127\n",
            "Epoch 88/100\n",
            "235/235 [==============================] - 1s 4ms/step - loss: 0.0858 - accuracy: 0.0131 - val_loss: 0.0855 - val_accuracy: 0.0132\n",
            "Epoch 89/100\n",
            "235/235 [==============================] - 1s 4ms/step - loss: 0.0857 - accuracy: 0.0134 - val_loss: 0.0856 - val_accuracy: 0.0137\n",
            "Epoch 90/100\n",
            "235/235 [==============================] - 1s 4ms/step - loss: 0.0857 - accuracy: 0.0139 - val_loss: 0.0855 - val_accuracy: 0.0111\n",
            "Epoch 91/100\n",
            "235/235 [==============================] - 1s 4ms/step - loss: 0.0857 - accuracy: 0.0135 - val_loss: 0.0857 - val_accuracy: 0.0115\n",
            "Epoch 92/100\n",
            "235/235 [==============================] - 1s 5ms/step - loss: 0.0856 - accuracy: 0.0141 - val_loss: 0.0855 - val_accuracy: 0.0113\n",
            "Epoch 93/100\n",
            "235/235 [==============================] - 1s 5ms/step - loss: 0.0857 - accuracy: 0.0136 - val_loss: 0.0857 - val_accuracy: 0.0142\n",
            "Epoch 94/100\n",
            "235/235 [==============================] - 1s 4ms/step - loss: 0.0856 - accuracy: 0.0142 - val_loss: 0.0853 - val_accuracy: 0.0143\n",
            "Epoch 95/100\n",
            "235/235 [==============================] - 1s 5ms/step - loss: 0.0855 - accuracy: 0.0138 - val_loss: 0.0854 - val_accuracy: 0.0144\n",
            "Epoch 96/100\n",
            "235/235 [==============================] - 1s 5ms/step - loss: 0.0855 - accuracy: 0.0138 - val_loss: 0.0852 - val_accuracy: 0.0139\n",
            "Epoch 97/100\n",
            "235/235 [==============================] - 1s 4ms/step - loss: 0.0855 - accuracy: 0.0140 - val_loss: 0.0855 - val_accuracy: 0.0116\n",
            "Epoch 98/100\n",
            "235/235 [==============================] - 1s 4ms/step - loss: 0.0855 - accuracy: 0.0139 - val_loss: 0.0852 - val_accuracy: 0.0144\n",
            "Epoch 99/100\n",
            "235/235 [==============================] - 1s 4ms/step - loss: 0.0854 - accuracy: 0.0138 - val_loss: 0.0853 - val_accuracy: 0.0151\n",
            "Epoch 100/100\n",
            "235/235 [==============================] - 1s 4ms/step - loss: 0.0854 - accuracy: 0.0138 - val_loss: 0.0853 - val_accuracy: 0.0129\n"
          ],
          "name": "stdout"
        },
        {
          "output_type": "execute_result",
          "data": {
            "text/plain": [
              "<tensorflow.python.keras.callbacks.History at 0x7f319ac0ee10>"
            ]
          },
          "metadata": {
            "tags": []
          },
          "execution_count": 24
        }
      ]
    },
    {
      "cell_type": "code",
      "metadata": {
        "id": "ELRisDje6qaD",
        "outputId": "b13db538-df66-4ffd-ae25-c7ebabfa3507",
        "colab": {
          "base_uri": "https://localhost:8080/",
          "height": 226
        }
      },
      "source": [
        "decoded_imgs = autoencoder.predict(x_test)\n",
        "\n",
        "n = 10\n",
        "plt.figure(figsize=(20, 4))\n",
        "for i in range(1, n + 1):\n",
        "    # Display original\n",
        "    ax = plt.subplot(2, n, i)\n",
        "    plt.imshow(x_test[i].reshape(28, 28))\n",
        "    plt.gray()\n",
        "    ax.get_xaxis().set_visible(False)\n",
        "    ax.get_yaxis().set_visible(False)\n",
        "\n",
        "    # Display reconstruction\n",
        "    ax = plt.subplot(2, n, i + n)\n",
        "    plt.imshow(decoded_imgs[i].reshape(28, 28))\n",
        "    plt.gray()\n",
        "    ax.get_xaxis().set_visible(False)\n",
        "    ax.get_yaxis().set_visible(False)\n",
        "plt.show()"
      ],
      "execution_count": null,
      "outputs": [
        {
          "output_type": "display_data",
          "data": {
            "image/png": "[encoded data removed]",
            "text/plain": [
              "<Figure size 1440x288 with 20 Axes>"
            ]
          },
          "metadata": {
            "tags": [],
            "needs_background": "light"
          }
        }
      ]
    },
    {
      "cell_type": "markdown",
      "metadata": {
        "id": "cCtJyrg852F6"
      },
      "source": [
        "#Convolutional Autoencoder"
      ]
    },
    {
      "cell_type": "code",
      "metadata": {
        "id": "ZI1ZJWzi9ekD"
      },
      "source": [
        "from keras.layers import Conv2D\n",
        "from keras.layers import Input\n",
        "from keras.layers import MaxPooling2D, UpSampling2D\n",
        "from keras.models import Model\n",
        "from keras.datasets.mnist import load_data\n",
        "from numpy import reshape\n",
        "import matplotlib.pyplot as plt"
      ],
      "execution_count": null,
      "outputs": []
    },
    {
      "cell_type": "code",
      "metadata": {
        "id": "ufqHSV9a9g4r",
        "outputId": "489b7715-ce2d-41c8-9ce3-7ddb3cdd5138",
        "colab": {
          "base_uri": "https://localhost:8080/"
        }
      },
      "source": [
        "(xtrain, _), (xtest, _) = load_data()\n",
        "\n",
        "xtrain = xtrain.astype('float32') / 255\n",
        "xtest = xtest.astype('float32') / 255\n",
        "print(xtrain.shape, xtest.shape) \n",
        "\n",
        "x_train = reshape(xtrain, (len(xtrain), 28, 28, 1)) \n",
        "x_test = reshape(xtest, (len(xtest), 28, 28, 1)) \n",
        "print(x_train.shape, x_test.shape) \n",
        "\n",
        "input_img = Input(shape=(28, 28, 1))"
      ],
      "execution_count": null,
      "outputs": [
        {
          "output_type": "stream",
          "text": [
            "(60000, 28, 28) (10000, 28, 28)\n",
            "(60000, 28, 28, 1) (10000, 28, 28, 1)\n"
          ],
          "name": "stdout"
        }
      ]
    },
    {
      "cell_type": "code",
      "metadata": {
        "id": "Y1G6UIXn9kDN",
        "outputId": "722e2b5e-869d-4131-c1b6-c90afd49158a",
        "colab": {
          "base_uri": "https://localhost:8080/"
        }
      },
      "source": [
        "enc_conv1 = Conv2D(12, (3, 3), activation='relu', padding='same')(input_img)\n",
        "enc_pool1 = MaxPooling2D((2, 2), padding='same')(enc_conv1)\n",
        "enc_conv2 = Conv2D(8, (4, 4), activation='relu', padding='same')(enc_pool1)\n",
        "enc_ouput = MaxPooling2D((4, 4), padding='same')(enc_conv2)\n",
        "\n",
        "dec_conv2 = Conv2D(8, (4, 4), activation='relu', padding='same')(enc_ouput)\n",
        "dec_upsample2 = UpSampling2D((4, 4))(dec_conv2)\n",
        "dec_conv3 = Conv2D(12, (3, 3), activation='relu')(dec_upsample2)\n",
        "dec_upsample3 = UpSampling2D((2, 2))(dec_conv3)\n",
        "dec_output = Conv2D(1, (3, 3), activation='sigmoid', padding='same')(dec_upsample3)\n",
        "\n",
        "autoencoder = Model(input_img, dec_output)\n",
        "autoencoder.compile(optimizer='rmsprop', loss='binary_crossentropy')\n",
        "autoencoder.summary()"
      ],
      "execution_count": null,
      "outputs": [
        {
          "output_type": "stream",
          "text": [
            "Model: \"functional_15\"\n",
            "_________________________________________________________________\n",
            "Layer (type)                 Output Shape              Param #   \n",
            "=================================================================\n",
            "input_6 (InputLayer)         [(None, 28, 28, 1)]       0         \n",
            "_________________________________________________________________\n",
            "conv2d (Conv2D)              (None, 28, 28, 12)        120       \n",
            "_________________________________________________________________\n",
            "max_pooling2d (MaxPooling2D) (None, 14, 14, 12)        0         \n",
            "_________________________________________________________________\n",
            "conv2d_1 (Conv2D)            (None, 14, 14, 8)         1544      \n",
            "_________________________________________________________________\n",
            "max_pooling2d_1 (MaxPooling2 (None, 4, 4, 8)           0         \n",
            "_________________________________________________________________\n",
            "conv2d_2 (Conv2D)            (None, 4, 4, 8)           1032      \n",
            "_________________________________________________________________\n",
            "up_sampling2d (UpSampling2D) (None, 16, 16, 8)         0         \n",
            "_________________________________________________________________\n",
            "conv2d_3 (Conv2D)            (None, 14, 14, 12)        876       \n",
            "_________________________________________________________________\n",
            "up_sampling2d_1 (UpSampling2 (None, 28, 28, 12)        0         \n",
            "_________________________________________________________________\n",
            "conv2d_4 (Conv2D)            (None, 28, 28, 1)         109       \n",
            "=================================================================\n",
            "Total params: 3,681\n",
            "Trainable params: 3,681\n",
            "Non-trainable params: 0\n",
            "_________________________________________________________________\n"
          ],
          "name": "stdout"
        }
      ]
    },
    {
      "cell_type": "code",
      "metadata": {
        "id": "mv44aJ3e9luu",
        "outputId": "51df67d0-0411-4958-d99e-c077f3dd733c",
        "colab": {
          "base_uri": "https://localhost:8080/"
        }
      },
      "source": [
        "autoencoder.fit(x_train, x_train, epochs=100, batch_size=128, shuffle=True)"
      ],
      "execution_count": null,
      "outputs": [
        {
          "output_type": "stream",
          "text": [
            "Epoch 1/100\n",
            "469/469 [==============================] - 2s 4ms/step - loss: 0.2130\n",
            "Epoch 2/100\n",
            "469/469 [==============================] - 2s 4ms/step - loss: 0.1689\n",
            "Epoch 3/100\n",
            "469/469 [==============================] - 2s 4ms/step - loss: 0.1584\n",
            "Epoch 4/100\n",
            "469/469 [==============================] - 2s 4ms/step - loss: 0.1519\n",
            "Epoch 5/100\n",
            "469/469 [==============================] - 2s 4ms/step - loss: 0.1472\n",
            "Epoch 6/100\n",
            "469/469 [==============================] - 2s 4ms/step - loss: 0.1435\n",
            "Epoch 7/100\n",
            "469/469 [==============================] - 2s 4ms/step - loss: 0.1408\n",
            "Epoch 8/100\n",
            "469/469 [==============================] - 2s 4ms/step - loss: 0.1386\n",
            "Epoch 9/100\n",
            "469/469 [==============================] - 2s 4ms/step - loss: 0.1368\n",
            "Epoch 10/100\n",
            "469/469 [==============================] - 2s 4ms/step - loss: 0.1354\n",
            "Epoch 11/100\n",
            "469/469 [==============================] - 2s 4ms/step - loss: 0.1340\n",
            "Epoch 12/100\n",
            "469/469 [==============================] - 2s 4ms/step - loss: 0.1329\n",
            "Epoch 13/100\n",
            "469/469 [==============================] - 2s 4ms/step - loss: 0.1320\n",
            "Epoch 14/100\n",
            "469/469 [==============================] - 2s 4ms/step - loss: 0.1312\n",
            "Epoch 15/100\n",
            "469/469 [==============================] - 2s 4ms/step - loss: 0.1304\n",
            "Epoch 16/100\n",
            "469/469 [==============================] - 2s 4ms/step - loss: 0.1297\n",
            "Epoch 17/100\n",
            "469/469 [==============================] - 2s 4ms/step - loss: 0.1291\n",
            "Epoch 18/100\n",
            "469/469 [==============================] - 2s 4ms/step - loss: 0.1286\n",
            "Epoch 19/100\n",
            "469/469 [==============================] - 2s 4ms/step - loss: 0.1281\n",
            "Epoch 20/100\n",
            "469/469 [==============================] - 2s 4ms/step - loss: 0.1276\n",
            "Epoch 21/100\n",
            "469/469 [==============================] - 2s 4ms/step - loss: 0.1272\n",
            "Epoch 22/100\n",
            "469/469 [==============================] - 2s 4ms/step - loss: 0.1268\n",
            "Epoch 23/100\n",
            "469/469 [==============================] - 2s 4ms/step - loss: 0.1264\n",
            "Epoch 24/100\n",
            "469/469 [==============================] - 2s 4ms/step - loss: 0.1260\n",
            "Epoch 25/100\n",
            "469/469 [==============================] - 2s 4ms/step - loss: 0.1257\n",
            "Epoch 26/100\n",
            "469/469 [==============================] - 2s 4ms/step - loss: 0.1254\n",
            "Epoch 27/100\n",
            "469/469 [==============================] - 2s 4ms/step - loss: 0.1251\n",
            "Epoch 28/100\n",
            "469/469 [==============================] - 2s 4ms/step - loss: 0.1247\n",
            "Epoch 29/100\n",
            "469/469 [==============================] - 2s 4ms/step - loss: 0.1245\n",
            "Epoch 30/100\n",
            "469/469 [==============================] - 2s 4ms/step - loss: 0.1242\n",
            "Epoch 31/100\n",
            "469/469 [==============================] - 2s 4ms/step - loss: 0.1239\n",
            "Epoch 32/100\n",
            "469/469 [==============================] - 2s 4ms/step - loss: 0.1237\n",
            "Epoch 33/100\n",
            "469/469 [==============================] - 2s 4ms/step - loss: 0.1234\n",
            "Epoch 34/100\n",
            "469/469 [==============================] - 2s 4ms/step - loss: 0.1232\n",
            "Epoch 35/100\n",
            "469/469 [==============================] - 2s 4ms/step - loss: 0.1229\n",
            "Epoch 36/100\n",
            "469/469 [==============================] - 2s 4ms/step - loss: 0.1227\n",
            "Epoch 37/100\n",
            "469/469 [==============================] - 2s 4ms/step - loss: 0.1226\n",
            "Epoch 38/100\n",
            "469/469 [==============================] - 2s 4ms/step - loss: 0.1223\n",
            "Epoch 39/100\n",
            "469/469 [==============================] - 2s 4ms/step - loss: 0.1222\n",
            "Epoch 40/100\n",
            "469/469 [==============================] - 2s 4ms/step - loss: 0.1219\n",
            "Epoch 41/100\n",
            "469/469 [==============================] - 2s 4ms/step - loss: 0.1218\n",
            "Epoch 42/100\n",
            "469/469 [==============================] - 2s 4ms/step - loss: 0.1216\n",
            "Epoch 43/100\n",
            "469/469 [==============================] - 2s 4ms/step - loss: 0.1214\n",
            "Epoch 44/100\n",
            "469/469 [==============================] - 2s 4ms/step - loss: 0.1213\n",
            "Epoch 45/100\n",
            "469/469 [==============================] - 2s 4ms/step - loss: 0.1211\n",
            "Epoch 46/100\n",
            "469/469 [==============================] - 2s 4ms/step - loss: 0.1210\n",
            "Epoch 47/100\n",
            "469/469 [==============================] - 2s 4ms/step - loss: 0.1209\n",
            "Epoch 48/100\n",
            "469/469 [==============================] - 2s 4ms/step - loss: 0.1207\n",
            "Epoch 49/100\n",
            "469/469 [==============================] - 2s 4ms/step - loss: 0.1206\n",
            "Epoch 50/100\n",
            "469/469 [==============================] - 2s 4ms/step - loss: 0.1204\n",
            "Epoch 51/100\n",
            "469/469 [==============================] - 2s 4ms/step - loss: 0.1203\n",
            "Epoch 52/100\n",
            "469/469 [==============================] - 2s 4ms/step - loss: 0.1202\n",
            "Epoch 53/100\n",
            "469/469 [==============================] - 2s 4ms/step - loss: 0.1201\n",
            "Epoch 54/100\n",
            "469/469 [==============================] - 2s 4ms/step - loss: 0.1200\n",
            "Epoch 55/100\n",
            "469/469 [==============================] - 2s 4ms/step - loss: 0.1198\n",
            "Epoch 56/100\n",
            "469/469 [==============================] - 2s 4ms/step - loss: 0.1197\n",
            "Epoch 57/100\n",
            "469/469 [==============================] - 2s 4ms/step - loss: 0.1196\n",
            "Epoch 58/100\n",
            "469/469 [==============================] - 2s 4ms/step - loss: 0.1195\n",
            "Epoch 59/100\n",
            "469/469 [==============================] - 2s 4ms/step - loss: 0.1194\n",
            "Epoch 60/100\n",
            "469/469 [==============================] - 2s 4ms/step - loss: 0.1193\n",
            "Epoch 61/100\n",
            "469/469 [==============================] - 2s 4ms/step - loss: 0.1192\n",
            "Epoch 62/100\n",
            "469/469 [==============================] - 2s 4ms/step - loss: 0.1191\n",
            "Epoch 63/100\n",
            "469/469 [==============================] - 2s 4ms/step - loss: 0.1190\n",
            "Epoch 64/100\n",
            "469/469 [==============================] - 2s 4ms/step - loss: 0.1190\n",
            "Epoch 65/100\n",
            "469/469 [==============================] - 2s 4ms/step - loss: 0.1189\n",
            "Epoch 66/100\n",
            "469/469 [==============================] - 2s 4ms/step - loss: 0.1188\n",
            "Epoch 67/100\n",
            "469/469 [==============================] - 2s 4ms/step - loss: 0.1187\n",
            "Epoch 68/100\n",
            "469/469 [==============================] - 2s 4ms/step - loss: 0.1186\n",
            "Epoch 69/100\n",
            "469/469 [==============================] - 2s 4ms/step - loss: 0.1185\n",
            "Epoch 70/100\n",
            "469/469 [==============================] - 2s 4ms/step - loss: 0.1184\n",
            "Epoch 71/100\n",
            "469/469 [==============================] - 2s 4ms/step - loss: 0.1184\n",
            "Epoch 72/100\n",
            "469/469 [==============================] - 2s 4ms/step - loss: 0.1183\n",
            "Epoch 73/100\n",
            "469/469 [==============================] - 2s 4ms/step - loss: 0.1182\n",
            "Epoch 74/100\n",
            "469/469 [==============================] - 2s 4ms/step - loss: 0.1181\n",
            "Epoch 75/100\n",
            "469/469 [==============================] - 2s 4ms/step - loss: 0.1181\n",
            "Epoch 76/100\n",
            "469/469 [==============================] - 2s 4ms/step - loss: 0.1180\n",
            "Epoch 77/100\n",
            "469/469 [==============================] - 2s 4ms/step - loss: 0.1179\n",
            "Epoch 78/100\n",
            "469/469 [==============================] - 2s 4ms/step - loss: 0.1179\n",
            "Epoch 79/100\n",
            "469/469 [==============================] - 2s 4ms/step - loss: 0.1178\n",
            "Epoch 80/100\n",
            "469/469 [==============================] - 2s 4ms/step - loss: 0.1177\n",
            "Epoch 81/100\n",
            "469/469 [==============================] - 2s 4ms/step - loss: 0.1177\n",
            "Epoch 82/100\n",
            "469/469 [==============================] - 2s 4ms/step - loss: 0.1177\n",
            "Epoch 83/100\n",
            "469/469 [==============================] - 2s 4ms/step - loss: 0.1176\n",
            "Epoch 84/100\n",
            "469/469 [==============================] - 2s 4ms/step - loss: 0.1175\n",
            "Epoch 85/100\n",
            "469/469 [==============================] - 2s 4ms/step - loss: 0.1174\n",
            "Epoch 86/100\n",
            "469/469 [==============================] - 2s 4ms/step - loss: 0.1174\n",
            "Epoch 87/100\n",
            "469/469 [==============================] - 2s 4ms/step - loss: 0.1174\n",
            "Epoch 88/100\n",
            "469/469 [==============================] - 2s 4ms/step - loss: 0.1173\n",
            "Epoch 89/100\n",
            "469/469 [==============================] - 2s 4ms/step - loss: 0.1172\n",
            "Epoch 90/100\n",
            "469/469 [==============================] - 2s 4ms/step - loss: 0.1172\n",
            "Epoch 91/100\n",
            "469/469 [==============================] - 2s 4ms/step - loss: 0.1171\n",
            "Epoch 92/100\n",
            "469/469 [==============================] - 2s 4ms/step - loss: 0.1171\n",
            "Epoch 93/100\n",
            "469/469 [==============================] - 2s 4ms/step - loss: 0.1170\n",
            "Epoch 94/100\n",
            "469/469 [==============================] - 2s 4ms/step - loss: 0.1170\n",
            "Epoch 95/100\n",
            "469/469 [==============================] - 2s 4ms/step - loss: 0.1169\n",
            "Epoch 96/100\n",
            "469/469 [==============================] - 2s 4ms/step - loss: 0.1169\n",
            "Epoch 97/100\n",
            "469/469 [==============================] - 2s 4ms/step - loss: 0.1168\n",
            "Epoch 98/100\n",
            "469/469 [==============================] - 2s 4ms/step - loss: 0.1168\n",
            "Epoch 99/100\n",
            "469/469 [==============================] - 2s 4ms/step - loss: 0.1167\n",
            "Epoch 100/100\n",
            "469/469 [==============================] - 2s 4ms/step - loss: 0.1167\n"
          ],
          "name": "stdout"
        },
        {
          "output_type": "execute_result",
          "data": {
            "text/plain": [
              "<tensorflow.python.keras.callbacks.History at 0x7f3196d22b38>"
            ]
          },
          "metadata": {
            "tags": []
          },
          "execution_count": 29
        }
      ]
    },
    {
      "cell_type": "code",
      "metadata": {
        "id": "9ox1MvtL7hW5",
        "outputId": "cccaa550-c2c8-490e-bdac-636234c117a7",
        "colab": {
          "base_uri": "https://localhost:8080/",
          "height": 226
        }
      },
      "source": [
        "decoded_imgs = autoencoder.predict(x_test)\n",
        "\n",
        "n = 10\n",
        "plt.figure(figsize=(20, 4))\n",
        "for i in range(n):\n",
        " plt.gray()\n",
        " ax = plt.subplot(2, n, i+1)\n",
        " plt.imshow(x_test[i].reshape(28, 28))\n",
        " ax.get_xaxis().set_visible(False)\n",
        " ax.get_yaxis().set_visible(False)\n",
        " \n",
        " ax = plt.subplot(2, n, i +1+n)\n",
        " plt.imshow(decoded_imgs[i].reshape(28, 28))\n",
        " ax.get_xaxis().set_visible(False)\n",
        " ax.get_yaxis().set_visible(False)\n",
        "plt.show()"
      ],
      "execution_count": null,
      "outputs": [
        {
          "output_type": "display_data",
          "data": {
            "image/png": "[encoded data removed]",
            "text/plain": [
              "<Figure size 1440x288 with 20 Axes>"
            ]
          },
          "metadata": {
            "tags": [],
            "needs_background": "light"
          }
        }
      ]
    },
    {
      "cell_type": "code",
      "metadata": {
        "id": "-jec5zi2uuDX"
      },
      "source": [
        ""
      ],
      "execution_count": null,
      "outputs": []
    }
  ]
}